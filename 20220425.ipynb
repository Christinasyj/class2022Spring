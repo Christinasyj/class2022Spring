{
  "nbformat": 4,
  "nbformat_minor": 0,
  "metadata": {
    "colab": {
      "name": "20220425.ipynb",
      "provenance": [],
      "collapsed_sections": [],
      "authorship_tag": "ABX9TyPlWh/57lmgVkbO1KIyc40c",
      "include_colab_link": true
    },
    "kernelspec": {
      "name": "python3",
      "display_name": "Python 3"
    },
    "language_info": {
      "name": "python"
    }
  },
  "cells": [
    {
      "cell_type": "markdown",
      "metadata": {
        "id": "view-in-github",
        "colab_type": "text"
      },
      "source": [
        "<a href=\"https://colab.research.google.com/github/Christinasyj/class2022Spring/blob/main/20220425.ipynb\" target=\"_parent\"><img src=\"https://colab.research.google.com/assets/colab-badge.svg\" alt=\"Open In Colab\"/></a>"
      ]
    },
    {
      "cell_type": "markdown",
      "source": [
        "1. Auto correlation\n",
        "변수값이 구별되는 특정 시간의 시점에 일어난다고 보는 discrete time의 경우 autocorrelation은 신호와 그 신호의 늦춰진 복사값 사이의 관계이다. 이는 시간 축에 배열된 값들 사이 반복된 패턴을 찾는 데 이용될 수 있다. \n",
        "\n",
        "음악과 오디오 분석에 사용되는 Librosa package에서 pYIN 알고리즘은 probabilistic YIN을 사용해서 Fundamental frequency(f0)를 예측하는 데 쓰인다. librosa.yin과 달리 librosa.pyin은 return value로 voiced_flag와 voiced_prob를 가진다. pyin의 parameter는 audio time series, minimum frequency, maximum frequency이다. \n",
        "\n",
        "fundamental frequency: 주기 파형에서 가장 낮은 주파수, speech signal에서는 voiced speech signal의 주기적 구조의 예측된 주파수 (물리적인 수치, parameter)\n",
        "\n",
        "pitch: 청자가 인지하는 음의 높낮이 (인지적 수치)\n",
        "\n",
        "flag variables in python: True 또는 False의 binary value를 가지는 변수, 특정 조건이 충족되었다는 걸 프로그램에 표시하기 위해 사용\n",
        "\n",
        "voiced_flag: time series containing boolean flags indicating whether a frame is voiced or not.\n",
        "\n",
        "voiced_prob: time series containing the probability that a frame is voiced."
      ],
      "metadata": {
        "id": "oHLzwk3dj12g"
      }
    },
    {
      "cell_type": "markdown",
      "source": [
        "2. RMS(root mean square)[실효치] = quadratic mean(이차평균)\n",
        "\n",
        "사인파 하나를 sampling하듯이 조각으로 나누고 각 값을 제곱한 다음에 이를 모두 더해서 n으로 나눠서 mean(평균값)을 구하고 다시 루트(root)를 씌운 것. RMS는 평균값과 유사하지만 음수인 값이 섞여있을 때는 음수와 양수과 더해져 평균값이 제대로 계산되지 않으므로 positive와 negative value를 둘다 가지는 amplitude value에서 유용하다.\n",
        "\n",
        "librosa에서 RMS를 통해서 파형에서 진폭의 변화를 파악할 수 있다. rms에서 parameter는 audio sample이나 spectogram만 있으면 되고 나머지는 optional하다. "
      ],
      "metadata": {
        "id": "WQx6KrKfkmBK"
      }
    },
    {
      "cell_type": "code",
      "source": [
        ""
      ],
      "metadata": {
        "id": "H7Mj7Ho2kteB"
      },
      "execution_count": null,
      "outputs": []
    }
  ]
}