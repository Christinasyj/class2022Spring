{
  "nbformat": 4,
  "nbformat_minor": 0,
  "metadata": {
    "colab": {
      "name": "20220316과제_장서영 정리.ipynb",
      "provenance": [],
      "collapsed_sections": [],
      "authorship_tag": "ABX9TyORLnulx1v9g/14F/Pmqtfn",
      "include_colab_link": true
    },
    "kernelspec": {
      "name": "python3",
      "display_name": "Python 3"
    },
    "language_info": {
      "name": "python"
    }
  },
  "cells": [
    {
      "cell_type": "markdown",
      "metadata": {
        "id": "view-in-github",
        "colab_type": "text"
      },
      "source": [
        "<a href=\"https://colab.research.google.com/github/Christinasyj/class2022Spring/blob/main/20220316%EA%B3%BC%EC%A0%9C_%EC%9E%A5%EC%84%9C%EC%98%81_%EC%A0%95%EB%A6%AC.ipynb\" target=\"_parent\"><img src=\"https://colab.research.google.com/assets/colab-badge.svg\" alt=\"Open In Colab\"/></a>"
      ]
    },
    {
      "cell_type": "markdown",
      "source": [
        "Variables (1)_ numbers"
      ],
      "metadata": {
        "id": "3DUFigceIgDp"
      }
    },
    {
      "cell_type": "code",
      "execution_count": 1,
      "metadata": {
        "colab": {
          "base_uri": "https://localhost:8080/"
        },
        "id": "8W6Zm3SQ-mwx",
        "outputId": "2e423b48-0be8-4115-e5d5-8991c4b64284"
      },
      "outputs": [
        {
          "output_type": "stream",
          "name": "stdout",
          "text": [
            "1\n",
            "<class 'int'>\n"
          ]
        }
      ],
      "source": [
        "a=1\n",
        "print(a)\n",
        "print(type(a))"
      ]
    },
    {
      "cell_type": "markdown",
      "source": [
        "Variables (2)_ strings"
      ],
      "metadata": {
        "id": "D7KSe9fjIPsn"
      }
    },
    {
      "cell_type": "code",
      "source": [
        "a='123'\n",
        "print(type(a))"
      ],
      "metadata": {
        "colab": {
          "base_uri": "https://localhost:8080/"
        },
        "id": "c68d8UIJIsT1",
        "outputId": "e6f3625f-f39f-40cc-e4f6-72c3f89664da"
      },
      "execution_count": 2,
      "outputs": [
        {
          "output_type": "stream",
          "name": "stdout",
          "text": [
            "<class 'str'>\n"
          ]
        }
      ]
    },
    {
      "cell_type": "markdown",
      "source": [
        "Variables (3) lists\n",
        "- indexing starts from zero\n",
        "- can also use negative numbers, for which the last item's index should be -1\n",
        "- the last number should be excluded\n",
        "- items may be reassigned"
      ],
      "metadata": {
        "id": "DjCS84EiI0LE"
      }
    },
    {
      "cell_type": "code",
      "source": [
        "a=[1,2,3,4]\n",
        "print(a[0])\n",
        "print(a[:])\n",
        "print(a[0:-1])\n"
      ],
      "metadata": {
        "colab": {
          "base_uri": "https://localhost:8080/"
        },
        "id": "eBi8yPo8IzZ3",
        "outputId": "1b93a049-4239-4a25-c426-8e541cc1b2f1"
      },
      "execution_count": 4,
      "outputs": [
        {
          "output_type": "stream",
          "name": "stdout",
          "text": [
            "1\n",
            "[1, 2, 3, 4]\n",
            "[1, 2, 3]\n"
          ]
        }
      ]
    },
    {
      "cell_type": "code",
      "source": [
        "a=[1,['a','b'],[3,'4']]\n",
        "print(a[1])\n",
        "print(a[1][1])"
      ],
      "metadata": {
        "colab": {
          "base_uri": "https://localhost:8080/"
        },
        "id": "USGtEKyMKgqJ",
        "outputId": "8f86f1c0-fcd5-41a8-b6cc-77ab02c1da82"
      },
      "execution_count": 6,
      "outputs": [
        {
          "output_type": "stream",
          "name": "stdout",
          "text": [
            "['a', 'b']\n",
            "b\n"
          ]
        }
      ]
    },
    {
      "cell_type": "code",
      "source": [
        "a='abcdef123'\n",
        "print(a[3:-2])\n",
        "print(len(a))"
      ],
      "metadata": {
        "colab": {
          "base_uri": "https://localhost:8080/"
        },
        "id": "OJQDre2dLwyL",
        "outputId": "4af6275e-3a35-40cb-c337-7a2917a5f77f"
      },
      "execution_count": 11,
      "outputs": [
        {
          "output_type": "stream",
          "name": "stdout",
          "text": [
            "def1\n",
            "9\n"
          ]
        }
      ]
    },
    {
      "cell_type": "code",
      "source": [
        "a=[1,2,3]\n",
        "a[1]=0\n",
        "print(a)"
      ],
      "metadata": {
        "colab": {
          "base_uri": "https://localhost:8080/"
        },
        "id": "a__-4f20LiC0",
        "outputId": "9c3402db-92c0-4f80-9aec-c81ded574318"
      },
      "execution_count": 7,
      "outputs": [
        {
          "output_type": "stream",
          "name": "stdout",
          "text": [
            "[1, 0, 3]\n"
          ]
        }
      ]
    },
    {
      "cell_type": "code",
      "source": [
        "n=[100,200,300]\n",
        "print(n[1:-1])\n",
        "print(n[1])"
      ],
      "metadata": {
        "colab": {
          "base_uri": "https://localhost:8080/"
        },
        "id": "7OWIWkgydAWn",
        "outputId": "ec403f5f-d998-44c3-8a9a-2b402628bc40"
      },
      "execution_count": 14,
      "outputs": [
        {
          "output_type": "stream",
          "name": "stdout",
          "text": [
            "[200]\n",
            "200\n"
          ]
        }
      ]
    },
    {
      "cell_type": "markdown",
      "source": [
        "cf. Tuples\n",
        "ex. a=(1,2,3)\n",
        "- does not support item assignment\n",
        "- made so some important info may not be reassigned"
      ],
      "metadata": {
        "id": "ppur-uoXLDbQ"
      }
    },
    {
      "cell_type": "markdown",
      "source": [
        "Variables (4)_dicts\n",
        "- made up of two pairs {\"key\":\"value\"}\n",
        "- no index numbers\n",
        "ex. print(a[0]) will result in an error"
      ],
      "metadata": {
        "id": "yCBpMO-ULnWd"
      }
    },
    {
      "cell_type": "code",
      "source": [
        "a={\"a\":\"apple\",\"b\":\"orange\",\"c\":2022}\n",
        "print(a[\"c\"])"
      ],
      "metadata": {
        "colab": {
          "base_uri": "https://localhost:8080/"
        },
        "id": "sHuic9_xLtAb",
        "outputId": "e2cfdae8-97b6-41e6-f787-d276a5d524a2"
      },
      "execution_count": 10,
      "outputs": [
        {
          "output_type": "stream",
          "name": "stdout",
          "text": [
            "2022\n"
          ]
        }
      ]
    },
    {
      "cell_type": "markdown",
      "source": [
        "Functions\n",
        "\n",
        "- variable**.find**(' ')\n",
        ":index of first instance of string inside variable\n",
        "\n",
        "- variable.**strip**(' ')\n",
        ":a copy of variable without leading or trailing whitespace\n",
        "\n",
        "- variable.**split**(' ')\n",
        ":split variable into a list of wherever a t is found(whitespace by default)\n",
        "\n",
        "- ' '.**join**(variable)\n",
        ":combine the words of a text into a string \n",
        "\n",
        "- variable.**replace**('t','u')\n",
        ":replace instances of t with u\n"
      ],
      "metadata": {
        "id": "YNArDmz7eY9W"
      }
    },
    {
      "cell_type": "code",
      "source": [
        "s=' this is a house built this year.\\n'\n",
        "result=s.find('house')\n",
        "result\n",
        "result=s.find('this')\n",
        "result\n",
        "s=s.strip()\n",
        "s\n",
        "tokens=s.split('e')\n",
        "tokens\n",
        "s='e'.join(tokens)\n",
        "s\n",
        "s=s.replace('this','those')\n",
        "s"
      ],
      "metadata": {
        "colab": {
          "base_uri": "https://localhost:8080/",
          "height": 36
        },
        "id": "jiwRb7R7ebBZ",
        "outputId": "fcef9645-8d69-48fa-c2d2-efe53bbbccf3"
      },
      "execution_count": 21,
      "outputs": [
        {
          "output_type": "execute_result",
          "data": {
            "text/plain": [
              "'those is a house built those year.'"
            ],
            "application/vnd.google.colaboratory.intrinsic+json": {
              "type": "string"
            }
          },
          "metadata": {},
          "execution_count": 21
        }
      ]
    },
    {
      "cell_type": "markdown",
      "source": [
        "Defining Functions\n",
        "\n",
        "def 함수이름(입력변수1, 입력변수2):\n",
        "\n",
        "(indent)return 출력변수명"
      ],
      "metadata": {
        "id": "P66Dgx-zg8so"
      }
    },
    {
      "cell_type": "code",
      "source": [
        "def mltp(a,b):\n",
        "  c=a*b\n",
        "  return c"
      ],
      "metadata": {
        "id": "72gPEH0IhQ-I"
      },
      "execution_count": 31,
      "outputs": []
    },
    {
      "cell_type": "code",
      "source": [
        "c=mltp(18,36)\n",
        "c"
      ],
      "metadata": {
        "colab": {
          "base_uri": "https://localhost:8080/"
        },
        "id": "7AyM43jRiWUL",
        "outputId": "998dd832-229d-48ef-f227-7e75687ccd43"
      },
      "execution_count": 32,
      "outputs": [
        {
          "output_type": "execute_result",
          "data": {
            "text/plain": [
              "648"
            ]
          },
          "metadata": {},
          "execution_count": 32
        }
      ]
    },
    {
      "cell_type": "markdown",
      "source": [
        "Syntax\n",
        "\n",
        "1) for(while):반복문\n",
        "\n",
        "2) if(switch):조건문\n",
        "\n",
        "the length of a list is the number of items in the list"
      ],
      "metadata": {
        "id": "z9xLEYHViivK"
      }
    },
    {
      "cell_type": "code",
      "source": [
        "a=[1,2,3,4]\n",
        "for i in range(len(a)):\n",
        "  print(a[i])"
      ],
      "metadata": {
        "colab": {
          "base_uri": "https://localhost:8080/"
        },
        "id": "3kJ8Odtoip1o",
        "outputId": "3c3aa989-e811-4038-b139-6ada535bbc33"
      },
      "execution_count": 39,
      "outputs": [
        {
          "output_type": "stream",
          "name": "stdout",
          "text": [
            "1\n",
            "2\n",
            "3\n",
            "4\n"
          ]
        }
      ]
    },
    {
      "cell_type": "code",
      "source": [
        "a=['apple','orange','melon','berry','tomato']\n",
        "for i in range(len(a)):\n",
        "  print(i)\n",
        "  print(a[i])"
      ],
      "metadata": {
        "colab": {
          "base_uri": "https://localhost:8080/"
        },
        "id": "csj8sc5NjX4k",
        "outputId": "84aa0302-5b62-4b68-a381-51a83a859e9b"
      },
      "execution_count": 42,
      "outputs": [
        {
          "output_type": "stream",
          "name": "stdout",
          "text": [
            "0\n",
            "apple\n",
            "1\n",
            "orange\n",
            "2\n",
            "melon\n",
            "3\n",
            "berry\n",
            "4\n",
            "tomato\n"
          ]
        }
      ]
    },
    {
      "cell_type": "code",
      "source": [
        "for a in range(1,4):\n",
        "  for b in range(3,6):\n",
        "    print(a*b)"
      ],
      "metadata": {
        "colab": {
          "base_uri": "https://localhost:8080/"
        },
        "id": "fONCYouUlHmX",
        "outputId": "af07cd56-0db4-4c8c-b364-ae4485b11804"
      },
      "execution_count": 43,
      "outputs": [
        {
          "output_type": "stream",
          "name": "stdout",
          "text": [
            "3\n",
            "4\n",
            "5\n",
            "6\n",
            "8\n",
            "10\n",
            "9\n",
            "12\n",
            "15\n"
          ]
        }
      ]
    },
    {
      "cell_type": "code",
      "source": [
        "for a in range(1,4):\n",
        "  for b in range(3,6):\n",
        "    if a*b>=10:\n",
        "      print(a*b)"
      ],
      "metadata": {
        "colab": {
          "base_uri": "https://localhost:8080/"
        },
        "id": "HJTrBXkrlgJD",
        "outputId": "5ecbef2f-e7ac-4427-e22d-003d3a2b7d11"
      },
      "execution_count": 44,
      "outputs": [
        {
          "output_type": "stream",
          "name": "stdout",
          "text": [
            "10\n",
            "12\n",
            "15\n"
          ]
        }
      ]
    },
    {
      "cell_type": "markdown",
      "source": [
        "List comprehension"
      ],
      "metadata": {
        "id": "nOHKt07LlwOb"
      }
    },
    {
      "cell_type": "code",
      "source": [
        "a=[1,2,3,4,5,6]\n",
        "b=[i for i in a if i>=3]\n",
        "b"
      ],
      "metadata": {
        "colab": {
          "base_uri": "https://localhost:8080/"
        },
        "id": "lcN1qz4Tlxij",
        "outputId": "f9286fb3-8abb-4131-b789-daadd1e4c76b"
      },
      "execution_count": 50,
      "outputs": [
        {
          "output_type": "execute_result",
          "data": {
            "text/plain": [
              "[3, 4, 5, 6]"
            ]
          },
          "metadata": {},
          "execution_count": 50
        }
      ]
    },
    {
      "cell_type": "code",
      "source": [
        "a=['january','febuary','march','april','may','june','july']\n",
        "b=[c for c in a if len(c)<=5]\n",
        "b"
      ],
      "metadata": {
        "colab": {
          "base_uri": "https://localhost:8080/"
        },
        "id": "MOpVPNH5mk5q",
        "outputId": "ddb1548d-d633-401b-c440-e745f30891ac"
      },
      "execution_count": 52,
      "outputs": [
        {
          "output_type": "execute_result",
          "data": {
            "text/plain": [
              "['march', 'april', 'may', 'june', 'july']"
            ]
          },
          "metadata": {},
          "execution_count": 52
        }
      ]
    },
    {
      "cell_type": "markdown",
      "source": [
        "Dict comprehension"
      ],
      "metadata": {
        "id": "p0vnrsBKnDTm"
      }
    },
    {
      "cell_type": "code",
      "source": [
        "a=['may','june','july']\n",
        "b=[1,2,3]\n",
        "c={a[i]:b[i] for i in range(3)}\n",
        "c"
      ],
      "metadata": {
        "colab": {
          "base_uri": "https://localhost:8080/"
        },
        "id": "5XNXwPo4nFGF",
        "outputId": "d303ea43-7e7f-4e69-aefc-9a3e55ba3a85"
      },
      "execution_count": 54,
      "outputs": [
        {
          "output_type": "execute_result",
          "data": {
            "text/plain": [
              "{'july': 3, 'june': 2, 'may': 1}"
            ]
          },
          "metadata": {},
          "execution_count": 54
        }
      ]
    },
    {
      "cell_type": "markdown",
      "source": [
        "Ways of import\n",
        "\n",
        "mostly abbreviated as plt\n",
        "\n",
        "import matplotlib.pyplot as plt\n",
        "plt.hist(n)\n",
        "\n"
      ],
      "metadata": {
        "id": "34scBHQInkn6"
      }
    },
    {
      "cell_type": "markdown",
      "source": [
        "numpy\n",
        "\n",
        "- np.arrange(x,y,z)\n",
        "z: increment, between x and y (last number excluded)\n",
        "\n",
        "- np.linspace(x,y,z)\n",
        "divide numbers between x and y with a result of x number items (last number included)\n",
        "\n",
        "- np.array"
      ],
      "metadata": {
        "id": "V8L2Xqa_oQLi"
      }
    },
    {
      "cell_type": "code",
      "source": [
        ""
      ],
      "metadata": {
        "id": "hHNh79KppQca"
      },
      "execution_count": null,
      "outputs": []
    },
    {
      "cell_type": "code",
      "source": [
        "import numpy as np\n",
        "x=np.arange(0,13,3)\n",
        "print(x)\n",
        "print(x.shape)"
      ],
      "metadata": {
        "colab": {
          "base_uri": "https://localhost:8080/"
        },
        "id": "bugHn-qAoPqG",
        "outputId": "93e136ce-7a00-4f6c-c402-698f17ec3a9f"
      },
      "execution_count": 57,
      "outputs": [
        {
          "output_type": "stream",
          "name": "stdout",
          "text": [
            "[ 0  3  6  9 12]\n",
            "(5,)\n"
          ]
        }
      ]
    },
    {
      "cell_type": "code",
      "source": [
        "x=np.linspace(0,11,6)\n",
        "print(x)"
      ],
      "metadata": {
        "colab": {
          "base_uri": "https://localhost:8080/"
        },
        "id": "2L9LQD5UoKrB",
        "outputId": "8ca57e6c-e24d-4f0a-f2dd-a5f67fcb19c7"
      },
      "execution_count": 58,
      "outputs": [
        {
          "output_type": "stream",
          "name": "stdout",
          "text": [
            "[ 0.   2.2  4.4  6.6  8.8 11. ]\n"
          ]
        }
      ]
    },
    {
      "cell_type": "code",
      "source": [
        "x=np.array([[[1,2,3],[4,5,6]],[[7,8,9],[10,11,12]]])\n",
        "print(x)\n",
        "print(x.shape)"
      ],
      "metadata": {
        "colab": {
          "base_uri": "https://localhost:8080/"
        },
        "id": "JUCzBA6mp9lT",
        "outputId": "86c33ad0-57a9-4ad9-b017-96599995d47c"
      },
      "execution_count": 65,
      "outputs": [
        {
          "output_type": "stream",
          "name": "stdout",
          "text": [
            "[[[ 1  2  3]\n",
            "  [ 4  5  6]]\n",
            "\n",
            " [[ 7  8  9]\n",
            "  [10 11 12]]]\n",
            "(2, 2, 3)\n"
          ]
        }
      ]
    },
    {
      "cell_type": "code",
      "source": [
        "x=np.ones([2,2,4])\n",
        "print(x)"
      ],
      "metadata": {
        "colab": {
          "base_uri": "https://localhost:8080/"
        },
        "id": "CMXMoNknr8dJ",
        "outputId": "d409c256-20af-4c3a-a531-9eae11af48e7"
      },
      "execution_count": 75,
      "outputs": [
        {
          "output_type": "stream",
          "name": "stdout",
          "text": [
            "[[[1. 1. 1. 1.]\n",
            "  [1. 1. 1. 1.]]\n",
            "\n",
            " [[1. 1. 1. 1.]\n",
            "  [1. 1. 1. 1.]]]\n"
          ]
        }
      ]
    },
    {
      "cell_type": "markdown",
      "source": [
        "Creating random numbers"
      ],
      "metadata": {
        "id": "s4utDPfEt91D"
      }
    },
    {
      "cell_type": "code",
      "source": [
        "import matplotlib.pyplot as plt\n",
        "x=np.random.normal(0,1,30)\n",
        "print(x)\n",
        "plt.hist(x,bins=5)"
      ],
      "metadata": {
        "colab": {
          "base_uri": "https://localhost:8080/",
          "height": 425
        },
        "id": "lf-f9v63s3jg",
        "outputId": "91bed1f4-2d21-4e7a-caac-694fbf3acbb6"
      },
      "execution_count": 84,
      "outputs": [
        {
          "output_type": "stream",
          "name": "stdout",
          "text": [
            "[ 2.32830486  1.04328557 -1.50140095  0.58715684 -1.47846274  0.27235023\n",
            "  0.47823362  0.9039058  -1.17358929  0.25584213 -0.39221656  1.0112611\n",
            " -1.6413121   0.3487273   0.44353033 -1.49681367  0.43970276 -0.31557125\n",
            "  1.32466609 -0.01889165 -0.54159122  0.93923738  1.07930747 -1.10535283\n",
            "  1.15013723 -1.98451693  1.38592123 -0.25843084 -0.65713858 -0.29852769]\n"
          ]
        },
        {
          "output_type": "execute_result",
          "data": {
            "text/plain": [
              "(array([6., 6., 9., 8., 1.]),\n",
              " array([-1.98451693, -1.12195257, -0.25938821,  0.60317615,  1.46574051,\n",
              "         2.32830486]),\n",
              " <a list of 5 Patch objects>)"
            ]
          },
          "metadata": {},
          "execution_count": 84
        },
        {
          "output_type": "display_data",
          "data": {
            "text/plain": [
              "<Figure size 432x288 with 1 Axes>"
            ],
            "image/png": "[encoded data removed]"
          },
          "metadata": {
            "needs_background": "light"
          }
        }
      ]
    },
    {
      "cell_type": "markdown",
      "source": [
        "Generating a sine curve"
      ],
      "metadata": {
        "id": "NUg5S4dtuCHM"
      }
    },
    {
      "cell_type": "code",
      "source": [
        "theta1=np.linspace(0,2*np.pi,30)\n",
        "s1=np.sin(theta1)\n",
        "\n",
        "theta2=np.linspace(0,2*np.pi,30)+np.pi/2\n",
        "s2=np.sin(theta2)\n",
        "\n",
        "plt.subplot(2,1,1)\n",
        "plt.plot(theta1,s1,':')\n",
        "plt.subplot(2,1,2)\n",
        "plt.plot(theta2,s2,'.')"
      ],
      "metadata": {
        "colab": {
          "base_uri": "https://localhost:8080/",
          "height": 283
        },
        "id": "4LLSXvshuEyJ",
        "outputId": "270bd19e-644b-4b0a-c86f-4be7c1215618"
      },
      "execution_count": 88,
      "outputs": [
        {
          "output_type": "execute_result",
          "data": {
            "text/plain": [
              "[<matplotlib.lines.Line2D at 0x7f908c187350>]"
            ]
          },
          "metadata": {},
          "execution_count": 88
        },
        {
          "output_type": "display_data",
          "data": {
            "text/plain": [
              "<Figure size 432x288 with 2 Axes>"
            ],
            "image/png": "[encoded data removed]"
          },
          "metadata": {
            "needs_background": "light"
          }
        }
      ]
    },
    {
      "cell_type": "markdown",
      "source": [
        "Correlation\n",
        "\n",
        "correlation coefficient: r\n",
        "\n",
        "-1=<r=<1\n",
        "r의 절댓값이 1에 가까워질수록 값들이 가까이 분포"
      ],
      "metadata": {
        "id": "IG_ekOtZuFSH"
      }
    }
  ]
}